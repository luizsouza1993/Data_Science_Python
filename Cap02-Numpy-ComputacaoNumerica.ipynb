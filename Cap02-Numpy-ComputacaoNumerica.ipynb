{
 "cells": [
  {
   "cell_type": "markdown",
   "id": "dbb4ecbe",
   "metadata": {},
   "source": [
    "# COMPUTAÇÃO COM NUMPY"
   ]
  },
  {
   "cell_type": "code",
   "execution_count": 5,
   "id": "d030c943",
   "metadata": {},
   "outputs": [],
   "source": [
    "#Importando o modulo numpy\n",
    "import numpy as np"
   ]
  },
  {
   "cell_type": "markdown",
   "id": "b58d55c2",
   "metadata": {},
   "source": [
    "# CRIANDO ESTRUTURAS DE DADOS COM NUMPY"
   ]
  },
  {
   "cell_type": "code",
   "execution_count": 2,
   "id": "ded1a3dd",
   "metadata": {},
   "outputs": [],
   "source": [
    "#Criando um array unidimensional\n",
    "array1 = np.array([10,20,30,40])\n",
    "#Criando um array bidimensional\n",
    "array2 = np.array([[10,20,30],[40,50,60]])"
   ]
  },
  {
   "cell_type": "code",
   "execution_count": 3,
   "id": "00e56e96",
   "metadata": {},
   "outputs": [
    {
     "name": "stdout",
     "output_type": "stream",
     "text": [
      "[10 20 30 40]\n",
      "[[10 20 30]\n",
      " [40 50 60]]\n"
     ]
    }
   ],
   "source": [
    "#Imprimindo os arrays\n",
    "print(array1)\n",
    "print(array2)"
   ]
  },
  {
   "cell_type": "code",
   "execution_count": 6,
   "id": "0adf2cfe",
   "metadata": {},
   "outputs": [
    {
     "data": {
      "text/plain": [
       "(4,)"
      ]
     },
     "execution_count": 6,
     "metadata": {},
     "output_type": "execute_result"
    }
   ],
   "source": [
    "#Atributo de formato para o array 1\n",
    "array1.shape"
   ]
  },
  {
   "cell_type": "code",
   "execution_count": 7,
   "id": "f6e55b3d",
   "metadata": {},
   "outputs": [
    {
     "data": {
      "text/plain": [
       "(2, 3)"
      ]
     },
     "execution_count": 7,
     "metadata": {},
     "output_type": "execute_result"
    }
   ],
   "source": [
    "#Atributo de formato para o array 2\n",
    "array2.shape"
   ]
  },
  {
   "cell_type": "code",
   "execution_count": 8,
   "id": "dd060a15",
   "metadata": {},
   "outputs": [
    {
     "data": {
      "text/plain": [
       "1"
      ]
     },
     "execution_count": 8,
     "metadata": {},
     "output_type": "execute_result"
    }
   ],
   "source": [
    "#Atributo de dimensões para o array1\n",
    "array1.ndim"
   ]
  },
  {
   "cell_type": "code",
   "execution_count": 9,
   "id": "a5bc4f7f",
   "metadata": {},
   "outputs": [
    {
     "data": {
      "text/plain": [
       "2"
      ]
     },
     "execution_count": 9,
     "metadata": {},
     "output_type": "execute_result"
    }
   ],
   "source": [
    "#Atributo de dimensões para o array2\n",
    "array2.ndim"
   ]
  },
  {
   "cell_type": "code",
   "execution_count": 10,
   "id": "468950f0",
   "metadata": {},
   "outputs": [
    {
     "data": {
      "text/plain": [
       "60"
      ]
     },
     "execution_count": 10,
     "metadata": {},
     "output_type": "execute_result"
    }
   ],
   "source": [
    "#Método maximo para o array numero 2\n",
    "array2.max()"
   ]
  },
  {
   "cell_type": "markdown",
   "id": "554fd09a",
   "metadata": {},
   "source": [
    "## ESTRUTURAS DE DADOS COM ARANGE"
   ]
  },
  {
   "cell_type": "code",
   "execution_count": 12,
   "id": "f351bece",
   "metadata": {},
   "outputs": [],
   "source": [
    "array3 = np.arange(15)"
   ]
  },
  {
   "cell_type": "code",
   "execution_count": 13,
   "id": "41f18411",
   "metadata": {},
   "outputs": [
    {
     "name": "stdout",
     "output_type": "stream",
     "text": [
      "[ 0  1  2  3  4  5  6  7  8  9 10 11 12 13 14]\n"
     ]
    }
   ],
   "source": [
    "print(array3)"
   ]
  },
  {
   "cell_type": "code",
   "execution_count": 16,
   "id": "80c1bc39",
   "metadata": {},
   "outputs": [],
   "source": [
    "array4 = np.arange(0,16,5)"
   ]
  },
  {
   "cell_type": "code",
   "execution_count": 17,
   "id": "543a2513",
   "metadata": {},
   "outputs": [
    {
     "name": "stdout",
     "output_type": "stream",
     "text": [
      "[ 0  5 10 15]\n"
     ]
    }
   ],
   "source": [
    "print(array4)"
   ]
  },
  {
   "cell_type": "code",
   "execution_count": 19,
   "id": "95a3a9d1",
   "metadata": {},
   "outputs": [
    {
     "name": "stdout",
     "output_type": "stream",
     "text": [
      "[   0.  500. 1000.]\n"
     ]
    }
   ],
   "source": [
    "array5 = np.linspace(0,1000,3);\n",
    "print(array5)"
   ]
  },
  {
   "cell_type": "code",
   "execution_count": 20,
   "id": "528f4223",
   "metadata": {},
   "outputs": [
    {
     "name": "stdout",
     "output_type": "stream",
     "text": [
      "[[0. 0. 0. 0. 0.]\n",
      " [0. 0. 0. 0. 0.]\n",
      " [0. 0. 0. 0. 0.]\n",
      " [0. 0. 0. 0. 0.]\n",
      " [0. 0. 0. 0. 0.]]\n"
     ]
    }
   ],
   "source": [
    "array6 = np.zeros((5,5));\n",
    "print(array6)"
   ]
  },
  {
   "cell_type": "code",
   "execution_count": 21,
   "id": "4e28f5e9",
   "metadata": {},
   "outputs": [
    {
     "name": "stdout",
     "output_type": "stream",
     "text": [
      "[[[1. 1. 1.]\n",
      "  [1. 1. 1.]\n",
      "  [1. 1. 1.]]\n",
      "\n",
      " [[1. 1. 1.]\n",
      "  [1. 1. 1.]\n",
      "  [1. 1. 1.]]\n",
      "\n",
      " [[1. 1. 1.]\n",
      "  [1. 1. 1.]\n",
      "  [1. 1. 1.]]]\n"
     ]
    }
   ],
   "source": [
    "array7 = np.ones((3,3,3));\n",
    "print(array7)"
   ]
  },
  {
   "cell_type": "code",
   "execution_count": 23,
   "id": "5a3655bd",
   "metadata": {},
   "outputs": [
    {
     "name": "stdout",
     "output_type": "stream",
     "text": [
      "[[1. 0. 0. 0. 0.]\n",
      " [0. 1. 0. 0. 0.]\n",
      " [0. 0. 1. 0. 0.]\n",
      " [0. 0. 0. 1. 0.]\n",
      " [0. 0. 0. 0. 1.]]\n"
     ]
    }
   ],
   "source": [
    "array8 = np.eye(5);\n",
    "print(array8)"
   ]
  },
  {
   "cell_type": "code",
   "execution_count": 25,
   "id": "2ac2ced4",
   "metadata": {},
   "outputs": [
    {
     "name": "stdout",
     "output_type": "stream",
     "text": [
      "[[1 0 0 0 0 0]\n",
      " [0 2 0 0 0 0]\n",
      " [0 0 3 0 0 0]\n",
      " [0 0 0 4 0 0]\n",
      " [0 0 0 0 5 0]\n",
      " [0 0 0 0 0 6]]\n"
     ]
    }
   ],
   "source": [
    "array9 = np.diag((1,2,3,4,5,6));\n",
    "print(array9)"
   ]
  },
  {
   "cell_type": "code",
   "execution_count": 26,
   "id": "7b9f91c4",
   "metadata": {},
   "outputs": [
    {
     "name": "stdout",
     "output_type": "stream",
     "text": [
      "[0.0801068  0.08388202 0.93138867 0.79559803 0.00920271 0.83086227]\n"
     ]
    }
   ],
   "source": [
    "array10 = np.random.rand(6);\n",
    "print(array10)"
   ]
  },
  {
   "cell_type": "code",
   "execution_count": 27,
   "id": "63d26a0b",
   "metadata": {},
   "outputs": [
    {
     "name": "stdout",
     "output_type": "stream",
     "text": [
      "[ 0.60303915 -0.44899554  0.87738734  1.11452591  1.70968657  1.50488094\n",
      " -0.5135297  -0.79278573 -0.84918583  1.99180657]\n"
     ]
    }
   ],
   "source": [
    "array11 = np.random.randn(10);\n",
    "print(array11)"
   ]
  },
  {
   "cell_type": "code",
   "execution_count": 36,
   "id": "eab72703",
   "metadata": {},
   "outputs": [
    {
     "name": "stdout",
     "output_type": "stream",
     "text": [
      "[[0.0801068  0.08388202]\n",
      " [0.93138867 0.79559803]\n",
      " [0.00920271 0.83086227]]\n"
     ]
    }
   ],
   "source": [
    "array13 = np.empty((3,2));\n",
    "print(array13)"
   ]
  },
  {
   "cell_type": "code",
   "execution_count": 38,
   "id": "ba7c2bad",
   "metadata": {},
   "outputs": [
    {
     "name": "stdout",
     "output_type": "stream",
     "text": [
      "[[1 2 3 1 2 3 1 2 3 1 2 3]\n",
      " [2 3 4 2 3 4 2 3 4 2 3 4]\n",
      " [1 2 3 1 2 3 1 2 3 1 2 3]\n",
      " [2 3 4 2 3 4 2 3 4 2 3 4]\n",
      " [1 2 3 1 2 3 1 2 3 1 2 3]\n",
      " [2 3 4 2 3 4 2 3 4 2 3 4]\n",
      " [1 2 3 1 2 3 1 2 3 1 2 3]\n",
      " [2 3 4 2 3 4 2 3 4 2 3 4]]\n"
     ]
    }
   ],
   "source": [
    "array14 = np.array([[1,2,3],[2,3,4]]);\n",
    "array15= np.tile(array14,(4,4))\n",
    "print(array15)"
   ]
  },
  {
   "cell_type": "code",
   "execution_count": 6,
   "id": "d9ac33b3",
   "metadata": {},
   "outputs": [
    {
     "name": "stdout",
     "output_type": "stream",
     "text": [
      "[1. 2. 3. 4. 5.]\n"
     ]
    }
   ],
   "source": [
    "array16 = np.array([1,2,3,4,5], dtype= 'float');\n",
    "print(array16)"
   ]
  },
  {
   "cell_type": "code",
   "execution_count": 7,
   "id": "749fea8d",
   "metadata": {},
   "outputs": [
    {
     "data": {
      "text/plain": [
       "dtype('float64')"
      ]
     },
     "execution_count": 7,
     "metadata": {},
     "output_type": "execute_result"
    }
   ],
   "source": [
    "array16.dtype"
   ]
  },
  {
   "cell_type": "markdown",
   "id": "8bcb8ab9",
   "metadata": {},
   "source": [
    "# OPERAÇÕES COM ARRAY"
   ]
  },
  {
   "cell_type": "code",
   "execution_count": 9,
   "id": "337ac2bf",
   "metadata": {},
   "outputs": [],
   "source": [
    "array20 = np.array([1,2,3,4,5])*2"
   ]
  },
  {
   "cell_type": "code",
   "execution_count": 10,
   "id": "fedde881",
   "metadata": {},
   "outputs": [
    {
     "data": {
      "text/plain": [
       "array([ 2,  4,  6,  8, 10])"
      ]
     },
     "execution_count": 10,
     "metadata": {},
     "output_type": "execute_result"
    }
   ],
   "source": [
    "array20"
   ]
  },
  {
   "cell_type": "code",
   "execution_count": 11,
   "id": "725ce307",
   "metadata": {},
   "outputs": [
    {
     "data": {
      "text/plain": [
       "array([ 0, 10, 20, 30, 40])"
      ]
     },
     "execution_count": 11,
     "metadata": {},
     "output_type": "execute_result"
    }
   ],
   "source": [
    "array21 = np.arange(0,5)*10;\n",
    "array21"
   ]
  },
  {
   "cell_type": "code",
   "execution_count": 18,
   "id": "f7359412",
   "metadata": {},
   "outputs": [
    {
     "data": {
      "text/plain": [
       "array([         0,          1,       1024,      59049,    1048576,\n",
       "          9765625,   60466176,  282475249, 1073741824, -808182895],\n",
       "      dtype=int32)"
      ]
     },
     "execution_count": 18,
     "metadata": {},
     "output_type": "execute_result"
    }
   ],
   "source": [
    "array22 = np.arange(0,10)**10;\n",
    "array22"
   ]
  },
  {
   "cell_type": "code",
   "execution_count": 19,
   "id": "e3b03a25",
   "metadata": {},
   "outputs": [
    {
     "data": {
      "text/plain": [
       "array([         0,          1,       1024,      59049,    1048576,\n",
       "          9765625,   60466176,  282475249, 1073741824, -808182895],\n",
       "      dtype=int32)"
      ]
     },
     "execution_count": 19,
     "metadata": {},
     "output_type": "execute_result"
    }
   ],
   "source": [
    "array23 = np.arange(0,10)**10;\n",
    "array23"
   ]
  },
  {
   "cell_type": "code",
   "execution_count": 20,
   "id": "0e7a63de",
   "metadata": {},
   "outputs": [
    {
     "data": {
      "text/plain": [
       "array([0, 0, 0, 0, 0, 0, 0, 0, 0, 0], dtype=int32)"
      ]
     },
     "execution_count": 20,
     "metadata": {},
     "output_type": "execute_result"
    }
   ],
   "source": [
    "array24 = array23 - array22;\n",
    "array24"
   ]
  },
  {
   "cell_type": "code",
   "execution_count": 21,
   "id": "ae227110",
   "metadata": {},
   "outputs": [
    {
     "data": {
      "text/plain": [
       "array([False, False, False, False, False, False, False, False, False,\n",
       "        True])"
      ]
     },
     "execution_count": 21,
     "metadata": {},
     "output_type": "execute_result"
    }
   ],
   "source": [
    "array24>array23"
   ]
  },
  {
   "cell_type": "code",
   "execution_count": 22,
   "id": "4dc8b049",
   "metadata": {},
   "outputs": [
    {
     "name": "stdout",
     "output_type": "stream",
     "text": [
      "4.14 µs ± 152 ns per loop (mean ± std. dev. of 7 runs, 100000 loops each)\n"
     ]
    }
   ],
   "source": [
    "array25 = np.arange(0,100);\n",
    "%timeit array25**10"
   ]
  },
  {
   "cell_type": "code",
   "execution_count": 23,
   "id": "5ddaefe4",
   "metadata": {},
   "outputs": [
    {
     "name": "stdout",
     "output_type": "stream",
     "text": [
      "101 µs ± 5.23 µs per loop (mean ± std. dev. of 7 runs, 10000 loops each)\n"
     ]
    }
   ],
   "source": [
    "array26 = np.arange(0,100);\n",
    "%timeit [array26[x]**10 for x in array26]"
   ]
  }
 ],
 "metadata": {
  "kernelspec": {
   "display_name": "Python 3 (ipykernel)",
   "language": "python",
   "name": "python3"
  },
  "language_info": {
   "codemirror_mode": {
    "name": "ipython",
    "version": 3
   },
   "file_extension": ".py",
   "mimetype": "text/x-python",
   "name": "python",
   "nbconvert_exporter": "python",
   "pygments_lexer": "ipython3",
   "version": "3.9.7"
  }
 },
 "nbformat": 4,
 "nbformat_minor": 5
}
