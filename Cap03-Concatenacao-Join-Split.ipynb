{
 "cells": [
  {
   "cell_type": "code",
   "execution_count": 5,
   "id": "a18db842",
   "metadata": {},
   "outputs": [],
   "source": [
    "import numpy as np\n",
    "import sys"
   ]
  },
  {
   "cell_type": "code",
   "execution_count": 7,
   "id": "82610fe8",
   "metadata": {},
   "outputs": [
    {
     "data": {
      "text/plain": [
       "'1.20.3'"
      ]
     },
     "execution_count": 7,
     "metadata": {},
     "output_type": "execute_result"
    }
   ],
   "source": [
    "np.__version__"
   ]
  },
  {
   "cell_type": "code",
   "execution_count": 6,
   "id": "3f9c9c44",
   "metadata": {},
   "outputs": [
    {
     "data": {
      "text/plain": [
       "'3.9.7 (default, Sep 16 2021, 16:59:28) [MSC v.1916 64 bit (AMD64)]'"
      ]
     },
     "execution_count": 6,
     "metadata": {},
     "output_type": "execute_result"
    }
   ],
   "source": [
    "sys.version"
   ]
  },
  {
   "cell_type": "code",
   "execution_count": 12,
   "id": "76d07f89",
   "metadata": {},
   "outputs": [],
   "source": [
    "array1 = np.ones(4)"
   ]
  },
  {
   "cell_type": "code",
   "execution_count": 13,
   "id": "7e7aae75",
   "metadata": {},
   "outputs": [],
   "source": [
    "array2 = np.arange(15)"
   ]
  },
  {
   "cell_type": "code",
   "execution_count": 15,
   "id": "68bcb262",
   "metadata": {},
   "outputs": [],
   "source": [
    "array_conc = np.concatenate((array1, array2))"
   ]
  },
  {
   "cell_type": "code",
   "execution_count": 17,
   "id": "58cc9ec9",
   "metadata": {},
   "outputs": [
    {
     "data": {
      "text/plain": [
       "array([ 1,  1,  1,  1,  0,  1,  2,  3,  4,  5,  6,  7,  8,  9, 10, 11, 12,\n",
       "       13, 14])"
      ]
     },
     "execution_count": 17,
     "metadata": {},
     "output_type": "execute_result"
    }
   ],
   "source": [
    "array_conc.astype(int)"
   ]
  },
  {
   "cell_type": "code",
   "execution_count": 18,
   "id": "d87f8667",
   "metadata": {},
   "outputs": [],
   "source": [
    "array3 = np.ones((3,3))"
   ]
  },
  {
   "cell_type": "code",
   "execution_count": 19,
   "id": "0b1a3a65",
   "metadata": {},
   "outputs": [
    {
     "data": {
      "text/plain": [
       "array([[1., 1., 1.],\n",
       "       [1., 1., 1.],\n",
       "       [1., 1., 1.]])"
      ]
     },
     "execution_count": 19,
     "metadata": {},
     "output_type": "execute_result"
    }
   ],
   "source": [
    "array3"
   ]
  },
  {
   "cell_type": "code",
   "execution_count": 20,
   "id": "54e1e60b",
   "metadata": {},
   "outputs": [],
   "source": [
    "array4 = np.zeros((3,3))"
   ]
  },
  {
   "cell_type": "code",
   "execution_count": 21,
   "id": "bc17ad65",
   "metadata": {},
   "outputs": [
    {
     "data": {
      "text/plain": [
       "array([[0., 0., 0.],\n",
       "       [0., 0., 0.],\n",
       "       [0., 0., 0.]])"
      ]
     },
     "execution_count": 21,
     "metadata": {},
     "output_type": "execute_result"
    }
   ],
   "source": [
    "array4"
   ]
  },
  {
   "cell_type": "code",
   "execution_count": 25,
   "id": "568f74b2",
   "metadata": {},
   "outputs": [],
   "source": [
    "array_teste = np.array([np.arange(3),np.arange(3)])"
   ]
  },
  {
   "cell_type": "code",
   "execution_count": 26,
   "id": "02aa5ed9",
   "metadata": {},
   "outputs": [
    {
     "data": {
      "text/plain": [
       "array([[0, 1, 2],\n",
       "       [0, 1, 2]])"
      ]
     },
     "execution_count": 26,
     "metadata": {},
     "output_type": "execute_result"
    }
   ],
   "source": [
    "array_teste"
   ]
  },
  {
   "cell_type": "code",
   "execution_count": 28,
   "id": "6b0422a3",
   "metadata": {},
   "outputs": [
    {
     "data": {
      "text/plain": [
       "array([[1., 1., 1.],\n",
       "       [1., 1., 1.],\n",
       "       [1., 1., 1.],\n",
       "       [0., 0., 0.],\n",
       "       [0., 0., 0.],\n",
       "       [0., 0., 0.]])"
      ]
     },
     "execution_count": 28,
     "metadata": {},
     "output_type": "execute_result"
    }
   ],
   "source": [
    "np.vstack((array3,array4))"
   ]
  },
  {
   "cell_type": "code",
   "execution_count": 29,
   "id": "f63ded7b",
   "metadata": {},
   "outputs": [
    {
     "data": {
      "text/plain": [
       "array([[0., 0., 0., 1., 1., 1.],\n",
       "       [0., 0., 0., 1., 1., 1.],\n",
       "       [0., 0., 0., 1., 1., 1.]])"
      ]
     },
     "execution_count": 29,
     "metadata": {},
     "output_type": "execute_result"
    }
   ],
   "source": [
    "np.hstack((array4,array3))"
   ]
  },
  {
   "cell_type": "code",
   "execution_count": 30,
   "id": "49042f74",
   "metadata": {},
   "outputs": [],
   "source": [
    "array5 = np.array([1,2,3]);\n",
    "array6 = np.array([4,5,6]);\n",
    "array7 = np.array([7,8,9]);"
   ]
  },
  {
   "cell_type": "code",
   "execution_count": 31,
   "id": "9b4ff584",
   "metadata": {},
   "outputs": [
    {
     "data": {
      "text/plain": [
       "array([[1, 2, 3],\n",
       "       [4, 5, 6],\n",
       "       [7, 8, 9]])"
      ]
     },
     "execution_count": 31,
     "metadata": {},
     "output_type": "execute_result"
    }
   ],
   "source": [
    "np.row_stack((array5,array6,array7))"
   ]
  },
  {
   "cell_type": "code",
   "execution_count": 32,
   "id": "6ac4d8d9",
   "metadata": {},
   "outputs": [
    {
     "data": {
      "text/plain": [
       "array([[1, 4, 7],\n",
       "       [2, 5, 8],\n",
       "       [3, 6, 9]])"
      ]
     },
     "execution_count": 32,
     "metadata": {},
     "output_type": "execute_result"
    }
   ],
   "source": [
    "np.column_stack((array5,array6,array7))"
   ]
  },
  {
   "cell_type": "code",
   "execution_count": 49,
   "id": "820dd2c6",
   "metadata": {},
   "outputs": [],
   "source": [
    "array8 = np.arange(16);\n",
    "array8 = array8.reshape((4,4))"
   ]
  },
  {
   "cell_type": "code",
   "execution_count": 52,
   "id": "9e8ef461",
   "metadata": {},
   "outputs": [],
   "source": [
    "[array9,array10] = np.hsplit(array8,2)"
   ]
  },
  {
   "cell_type": "code",
   "execution_count": 53,
   "id": "02f77510",
   "metadata": {},
   "outputs": [
    {
     "data": {
      "text/plain": [
       "array([[ 0,  1],\n",
       "       [ 4,  5],\n",
       "       [ 8,  9],\n",
       "       [12, 13]])"
      ]
     },
     "execution_count": 53,
     "metadata": {},
     "output_type": "execute_result"
    }
   ],
   "source": [
    "array9"
   ]
  },
  {
   "cell_type": "code",
   "execution_count": 54,
   "id": "12dfc2e4",
   "metadata": {},
   "outputs": [
    {
     "data": {
      "text/plain": [
       "array([[ 2,  3],\n",
       "       [ 6,  7],\n",
       "       [10, 11],\n",
       "       [14, 15]])"
      ]
     },
     "execution_count": 54,
     "metadata": {},
     "output_type": "execute_result"
    }
   ],
   "source": [
    "array10"
   ]
  },
  {
   "cell_type": "code",
   "execution_count": 50,
   "id": "bf3f81da",
   "metadata": {},
   "outputs": [],
   "source": [
    "[array11,array12] = np.vsplit(array8,2)"
   ]
  },
  {
   "cell_type": "code",
   "execution_count": 51,
   "id": "b3f2c1ee",
   "metadata": {},
   "outputs": [
    {
     "data": {
      "text/plain": [
       "array([[0, 1, 2, 3],\n",
       "       [4, 5, 6, 7]])"
      ]
     },
     "execution_count": 51,
     "metadata": {},
     "output_type": "execute_result"
    }
   ],
   "source": [
    "array11"
   ]
  }
 ],
 "metadata": {
  "kernelspec": {
   "display_name": "Python 3 (ipykernel)",
   "language": "python",
   "name": "python3"
  },
  "language_info": {
   "codemirror_mode": {
    "name": "ipython",
    "version": 3
   },
   "file_extension": ".py",
   "mimetype": "text/x-python",
   "name": "python",
   "nbconvert_exporter": "python",
   "pygments_lexer": "ipython3",
   "version": "3.9.7"
  }
 },
 "nbformat": 4,
 "nbformat_minor": 5
}
