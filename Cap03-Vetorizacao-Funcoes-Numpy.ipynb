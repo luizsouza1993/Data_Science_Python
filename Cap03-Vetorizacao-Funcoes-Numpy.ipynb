{
 "cells": [
  {
   "cell_type": "code",
   "execution_count": 1,
   "id": "027948e8",
   "metadata": {},
   "outputs": [],
   "source": [
    "import numpy as np"
   ]
  },
  {
   "cell_type": "code",
   "execution_count": 19,
   "id": "233c73a2",
   "metadata": {},
   "outputs": [],
   "source": [
    "array1 = np.random.randint(1,10,10000)"
   ]
  },
  {
   "cell_type": "code",
   "execution_count": 20,
   "id": "1509a032",
   "metadata": {},
   "outputs": [
    {
     "data": {
      "text/plain": [
       "array([8, 1, 2, ..., 3, 3, 2])"
      ]
     },
     "execution_count": 20,
     "metadata": {},
     "output_type": "execute_result"
    }
   ],
   "source": [
    "array1"
   ]
  },
  {
   "cell_type": "code",
   "execution_count": 21,
   "id": "d5fb671c",
   "metadata": {},
   "outputs": [],
   "source": [
    "def calc(num):\n",
    "    if num<10:\n",
    "        return num**3\n",
    "    else:\n",
    "        return num**2"
   ]
  },
  {
   "cell_type": "code",
   "execution_count": 22,
   "id": "42ae2a0b",
   "metadata": {},
   "outputs": [],
   "source": [
    "v_calc = np.vectorize(calc)"
   ]
  },
  {
   "cell_type": "code",
   "execution_count": 23,
   "id": "fbf5720d",
   "metadata": {},
   "outputs": [
    {
     "name": "stdout",
     "output_type": "stream",
     "text": [
      "7.4 ms ± 201 µs per loop (mean ± std. dev. of 7 runs, 100 loops each)\n"
     ]
    }
   ],
   "source": [
    "%timeit v_calc(array1)"
   ]
  },
  {
   "cell_type": "code",
   "execution_count": 24,
   "id": "1e88e6a7",
   "metadata": {},
   "outputs": [
    {
     "name": "stdout",
     "output_type": "stream",
     "text": [
      "8.78 ms ± 509 µs per loop (mean ± std. dev. of 7 runs, 100 loops each)\n"
     ]
    }
   ],
   "source": [
    "%timeit list(map(calc,array1))"
   ]
  },
  {
   "cell_type": "code",
   "execution_count": null,
   "id": "e40b20a3",
   "metadata": {},
   "outputs": [],
   "source": [
    "%timeit [calc(x) for x in array1]"
   ]
  }
 ],
 "metadata": {
  "kernelspec": {
   "display_name": "Python 3 (ipykernel)",
   "language": "python",
   "name": "python3"
  },
  "language_info": {
   "codemirror_mode": {
    "name": "ipython",
    "version": 3
   },
   "file_extension": ".py",
   "mimetype": "text/x-python",
   "name": "python",
   "nbconvert_exporter": "python",
   "pygments_lexer": "ipython3",
   "version": "3.9.7"
  }
 },
 "nbformat": 4,
 "nbformat_minor": 5
}
