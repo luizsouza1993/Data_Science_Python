{
 "cells": [
  {
   "cell_type": "code",
   "execution_count": 3,
   "id": "f938e6c6",
   "metadata": {},
   "outputs": [],
   "source": [
    "import pandas as pd\n",
    "import numpy as np"
   ]
  },
  {
   "cell_type": "code",
   "execution_count": 4,
   "id": "fb0fb75e",
   "metadata": {},
   "outputs": [],
   "source": [
    "series1 = pd.Series(np.random.rand(10))"
   ]
  },
  {
   "cell_type": "code",
   "execution_count": 5,
   "id": "f0bc6202",
   "metadata": {},
   "outputs": [
    {
     "name": "stdout",
     "output_type": "stream",
     "text": [
      "0    0.780337\n",
      "1    0.370590\n",
      "2    0.075040\n",
      "3    0.759255\n",
      "4    0.104649\n",
      "5    0.996789\n",
      "6    0.685078\n",
      "7    0.095653\n",
      "8    0.332104\n",
      "9    0.261623\n",
      "dtype: float64\n"
     ]
    }
   ],
   "source": [
    "print(series1)"
   ]
  },
  {
   "cell_type": "code",
   "execution_count": 6,
   "id": "21453c9b",
   "metadata": {},
   "outputs": [],
   "source": [
    "series2 = pd.Series(np.random.rand(10))"
   ]
  },
  {
   "cell_type": "code",
   "execution_count": 7,
   "id": "2359f2aa",
   "metadata": {},
   "outputs": [
    {
     "name": "stdout",
     "output_type": "stream",
     "text": [
      "0    0.498358\n",
      "1    0.581152\n",
      "2    0.063116\n",
      "3    0.614440\n",
      "4    0.263651\n",
      "5    0.801753\n",
      "6    0.942542\n",
      "7    0.895933\n",
      "8    0.440189\n",
      "9    0.785526\n",
      "dtype: float64\n"
     ]
    }
   ],
   "source": [
    "print(series2)"
   ]
  },
  {
   "cell_type": "code",
   "execution_count": 8,
   "id": "3f9f04f1",
   "metadata": {},
   "outputs": [],
   "source": [
    "combo = pd.concat([series1,series2])"
   ]
  },
  {
   "cell_type": "code",
   "execution_count": 9,
   "id": "ad828e3c",
   "metadata": {},
   "outputs": [
    {
     "name": "stdout",
     "output_type": "stream",
     "text": [
      "0    0.780337\n",
      "1    0.370590\n",
      "2    0.075040\n",
      "3    0.759255\n",
      "4    0.104649\n",
      "5    0.996789\n",
      "6    0.685078\n",
      "7    0.095653\n",
      "8    0.332104\n",
      "9    0.261623\n",
      "0    0.498358\n",
      "1    0.581152\n",
      "2    0.063116\n",
      "3    0.614440\n",
      "4    0.263651\n",
      "5    0.801753\n",
      "6    0.942542\n",
      "7    0.895933\n",
      "8    0.440189\n",
      "9    0.785526\n",
      "dtype: float64\n"
     ]
    }
   ],
   "source": [
    "print(combo)"
   ]
  },
  {
   "cell_type": "code",
   "execution_count": 10,
   "id": "c1f18cfc",
   "metadata": {},
   "outputs": [],
   "source": [
    "combo.index = np.arange(combo.count())"
   ]
  },
  {
   "cell_type": "code",
   "execution_count": 11,
   "id": "a9d3e7e5",
   "metadata": {},
   "outputs": [
    {
     "name": "stdout",
     "output_type": "stream",
     "text": [
      "0     0.780337\n",
      "1     0.370590\n",
      "2     0.075040\n",
      "3     0.759255\n",
      "4     0.104649\n",
      "5     0.996789\n",
      "6     0.685078\n",
      "7     0.095653\n",
      "8     0.332104\n",
      "9     0.261623\n",
      "10    0.498358\n",
      "11    0.581152\n",
      "12    0.063116\n",
      "13    0.614440\n",
      "14    0.263651\n",
      "15    0.801753\n",
      "16    0.942542\n",
      "17    0.895933\n",
      "18    0.440189\n",
      "19    0.785526\n",
      "dtype: float64\n"
     ]
    }
   ],
   "source": [
    "print(combo)"
   ]
  },
  {
   "cell_type": "code",
   "execution_count": 12,
   "id": "2bf4fe7c",
   "metadata": {},
   "outputs": [
    {
     "data": {
      "text/plain": [
       "20"
      ]
     },
     "execution_count": 12,
     "metadata": {},
     "output_type": "execute_result"
    }
   ],
   "source": [
    "combo.count()"
   ]
  },
  {
   "cell_type": "code",
   "execution_count": 14,
   "id": "57d2b77d",
   "metadata": {},
   "outputs": [],
   "source": [
    "new_combo = combo.reindex([0,2,10,20], fill_value = 0)"
   ]
  },
  {
   "cell_type": "code",
   "execution_count": 15,
   "id": "b31f9fe8",
   "metadata": {},
   "outputs": [
    {
     "data": {
      "text/plain": [
       "0     0.780337\n",
       "2     0.075040\n",
       "10    0.498358\n",
       "20    0.000000\n",
       "dtype: float64"
      ]
     },
     "execution_count": 15,
     "metadata": {},
     "output_type": "execute_result"
    }
   ],
   "source": [
    "new_combo"
   ]
  },
  {
   "cell_type": "code",
   "execution_count": 16,
   "id": "a7fb76a7",
   "metadata": {},
   "outputs": [],
   "source": [
    "new_combo2= combo.reindex([5,6,30,40])"
   ]
  },
  {
   "cell_type": "code",
   "execution_count": 17,
   "id": "14bf5b72",
   "metadata": {},
   "outputs": [
    {
     "data": {
      "text/plain": [
       "5     0.996789\n",
       "6     0.685078\n",
       "30         NaN\n",
       "40         NaN\n",
       "dtype: float64"
      ]
     },
     "execution_count": 17,
     "metadata": {},
     "output_type": "execute_result"
    }
   ],
   "source": [
    "new_combo2"
   ]
  },
  {
   "cell_type": "code",
   "execution_count": 18,
   "id": "d9317366",
   "metadata": {},
   "outputs": [
    {
     "data": {
      "text/plain": [
       "5      0.996789\n",
       "6      0.685078\n",
       "30    10.000000\n",
       "40    10.000000\n",
       "dtype: float64"
      ]
     },
     "execution_count": 18,
     "metadata": {},
     "output_type": "execute_result"
    }
   ],
   "source": [
    "new_combo2.fillna(10)"
   ]
  },
  {
   "cell_type": "code",
   "execution_count": 19,
   "id": "55c38e62",
   "metadata": {},
   "outputs": [],
   "source": [
    "s1 = pd.Series(np.random.rand(10))"
   ]
  },
  {
   "cell_type": "code",
   "execution_count": 21,
   "id": "32baec2f",
   "metadata": {},
   "outputs": [],
   "source": [
    "s2 = pd.Series(np.random.randn(10))"
   ]
  },
  {
   "cell_type": "code",
   "execution_count": 22,
   "id": "5fed9531",
   "metadata": {},
   "outputs": [
    {
     "data": {
      "text/plain": [
       "0    0.897239\n",
       "1    0.220491\n",
       "2    0.768751\n",
       "3    0.636334\n",
       "4    0.478632\n",
       "5    0.794505\n",
       "6    0.997416\n",
       "7    0.009273\n",
       "8    0.368945\n",
       "9    0.386683\n",
       "dtype: float64"
      ]
     },
     "execution_count": 22,
     "metadata": {},
     "output_type": "execute_result"
    }
   ],
   "source": [
    "s1"
   ]
  },
  {
   "cell_type": "code",
   "execution_count": 23,
   "id": "2e03c780",
   "metadata": {},
   "outputs": [
    {
     "data": {
      "text/plain": [
       "0   -0.118334\n",
       "1    0.002559\n",
       "2   -0.313327\n",
       "3    1.009935\n",
       "4    0.453075\n",
       "5   -1.010180\n",
       "6   -0.992077\n",
       "7   -0.897683\n",
       "8    0.675270\n",
       "9   -1.241337\n",
       "dtype: float64"
      ]
     },
     "execution_count": 23,
     "metadata": {},
     "output_type": "execute_result"
    }
   ],
   "source": [
    "s2"
   ]
  },
  {
   "cell_type": "code",
   "execution_count": 24,
   "id": "3b755b32",
   "metadata": {},
   "outputs": [
    {
     "data": {
      "text/plain": [
       "0    0.778905\n",
       "1    0.223050\n",
       "2    0.455424\n",
       "3    1.646269\n",
       "4    0.931707\n",
       "5   -0.215675\n",
       "6    0.005339\n",
       "7   -0.888411\n",
       "8    1.044215\n",
       "9   -0.854654\n",
       "dtype: float64"
      ]
     },
     "execution_count": 24,
     "metadata": {},
     "output_type": "execute_result"
    }
   ],
   "source": [
    "s1+s2"
   ]
  },
  {
   "cell_type": "code",
   "execution_count": 26,
   "id": "cb6e9d1d",
   "metadata": {},
   "outputs": [],
   "source": [
    "s2.index = np.arange(0,100,10)"
   ]
  },
  {
   "cell_type": "code",
   "execution_count": 28,
   "id": "e3c24e26",
   "metadata": {},
   "outputs": [
    {
     "data": {
      "text/plain": [
       "0    -0.118334\n",
       "10    0.002559\n",
       "20   -0.313327\n",
       "30    1.009935\n",
       "40    0.453075\n",
       "50   -1.010180\n",
       "60   -0.992077\n",
       "70   -0.897683\n",
       "80    0.675270\n",
       "90   -1.241337\n",
       "dtype: float64"
      ]
     },
     "execution_count": 28,
     "metadata": {},
     "output_type": "execute_result"
    }
   ],
   "source": [
    "s2"
   ]
  },
  {
   "cell_type": "code",
   "execution_count": 29,
   "id": "35c5ef92",
   "metadata": {},
   "outputs": [
    {
     "data": {
      "text/plain": [
       "0     0.778905\n",
       "1          NaN\n",
       "2          NaN\n",
       "3          NaN\n",
       "4          NaN\n",
       "5          NaN\n",
       "6          NaN\n",
       "7          NaN\n",
       "8          NaN\n",
       "9          NaN\n",
       "10         NaN\n",
       "20         NaN\n",
       "30         NaN\n",
       "40         NaN\n",
       "50         NaN\n",
       "60         NaN\n",
       "70         NaN\n",
       "80         NaN\n",
       "90         NaN\n",
       "dtype: float64"
      ]
     },
     "execution_count": 29,
     "metadata": {},
     "output_type": "execute_result"
    }
   ],
   "source": [
    "s1+s2"
   ]
  },
  {
   "cell_type": "code",
   "execution_count": 31,
   "id": "9e23a5ab",
   "metadata": {},
   "outputs": [],
   "source": [
    "s3 = s1.reindex(np.arange(0,100,10), fill_value = 0)+ s2.reindex(np.arange(0,100,10), fill_value = 0)"
   ]
  },
  {
   "cell_type": "code",
   "execution_count": 58,
   "id": "1c8a416e",
   "metadata": {},
   "outputs": [],
   "source": [
    "s3 = s3.map(lambda x:x**3)"
   ]
  },
  {
   "cell_type": "code",
   "execution_count": 60,
   "id": "cec7bfe0",
   "metadata": {},
   "outputs": [
    {
     "data": {
      "text/plain": [
       "[0.0012, 0.0, -0.0, 1.3059, 0.0, -1.3145, -0.8067, -0.0542, 0.0, -342.7875]"
      ]
     },
     "execution_count": 60,
     "metadata": {},
     "output_type": "execute_result"
    }
   ],
   "source": [
    "[round(x,4) for x in s3]"
   ]
  },
  {
   "cell_type": "code",
   "execution_count": 61,
   "id": "1512b32f",
   "metadata": {},
   "outputs": [
    {
     "data": {
      "text/plain": [
       "0     1.175137e-03\n",
       "10    1.036900e-70\n",
       "20   -2.465801e-14\n",
       "30    1.305943e+00\n",
       "40    5.206986e-10\n",
       "50   -1.314511e+00\n",
       "60   -8.067227e-01\n",
       "70   -5.424070e-02\n",
       "80    2.488243e-05\n",
       "90   -3.427875e+02\n",
       "dtype: float64"
      ]
     },
     "execution_count": 61,
     "metadata": {},
     "output_type": "execute_result"
    }
   ],
   "source": [
    "s3"
   ]
  }
 ],
 "metadata": {
  "kernelspec": {
   "display_name": "Python 3 (ipykernel)",
   "language": "python",
   "name": "python3"
  },
  "language_info": {
   "codemirror_mode": {
    "name": "ipython",
    "version": 3
   },
   "file_extension": ".py",
   "mimetype": "text/x-python",
   "name": "python",
   "nbconvert_exporter": "python",
   "pygments_lexer": "ipython3",
   "version": "3.9.7"
  }
 },
 "nbformat": 4,
 "nbformat_minor": 5
}
