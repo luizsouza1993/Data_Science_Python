{
 "cells": [
  {
   "cell_type": "code",
   "execution_count": 29,
   "id": "84f56266",
   "metadata": {},
   "outputs": [],
   "source": [
    "import sys\n",
    "import numpy as np\n",
    "import pandas as pd\n",
    "import string as st \n",
    "import matplotlib.pyplot as plt\n",
    "%matplotlib inline"
   ]
  },
  {
   "cell_type": "code",
   "execution_count": 3,
   "id": "cba20022",
   "metadata": {},
   "outputs": [
    {
     "name": "stdout",
     "output_type": "stream",
     "text": [
      "3.9.7 (default, Sep 16 2021, 16:59:28) [MSC v.1916 64 bit (AMD64)]\n",
      "1.3.4\n",
      "1.20.3\n"
     ]
    }
   ],
   "source": [
    "print(sys.version)\n",
    "print(pd.__version__)\n",
    "print(np.__version__)"
   ]
  },
  {
   "cell_type": "code",
   "execution_count": 25,
   "id": "7cc24a9d",
   "metadata": {},
   "outputs": [],
   "source": [
    "series = pd.Series(np.arange(0,26,1))"
   ]
  },
  {
   "cell_type": "code",
   "execution_count": 10,
   "id": "45ca9d29",
   "metadata": {},
   "outputs": [
    {
     "data": {
      "text/plain": [
       "0      0\n",
       "1      1\n",
       "2      2\n",
       "3      3\n",
       "4      4\n",
       "5      5\n",
       "6      6\n",
       "7      7\n",
       "8      8\n",
       "9      9\n",
       "10    10\n",
       "11    11\n",
       "12    12\n",
       "13    13\n",
       "14    14\n",
       "15    15\n",
       "16    16\n",
       "17    17\n",
       "18    18\n",
       "19    19\n",
       "dtype: int32"
      ]
     },
     "execution_count": 10,
     "metadata": {},
     "output_type": "execute_result"
    }
   ],
   "source": [
    "series"
   ]
  },
  {
   "cell_type": "code",
   "execution_count": 11,
   "id": "214097b8",
   "metadata": {},
   "outputs": [
    {
     "data": {
      "text/plain": [
       "pandas.core.series.Series"
      ]
     },
     "execution_count": 11,
     "metadata": {},
     "output_type": "execute_result"
    }
   ],
   "source": [
    "type(series)"
   ]
  },
  {
   "cell_type": "code",
   "execution_count": 12,
   "id": "626393ad",
   "metadata": {},
   "outputs": [
    {
     "data": {
      "text/plain": [
       "RangeIndex(start=0, stop=20, step=1)"
      ]
     },
     "execution_count": 12,
     "metadata": {},
     "output_type": "execute_result"
    }
   ],
   "source": [
    "series.index"
   ]
  },
  {
   "cell_type": "code",
   "execution_count": 17,
   "id": "f4a48d11",
   "metadata": {},
   "outputs": [],
   "source": [
    "lcase = st.ascii_lowercase"
   ]
  },
  {
   "cell_type": "code",
   "execution_count": 18,
   "id": "d1667864",
   "metadata": {},
   "outputs": [],
   "source": [
    "ucase = st.ascii_uppercase"
   ]
  },
  {
   "cell_type": "code",
   "execution_count": 19,
   "id": "130715f5",
   "metadata": {},
   "outputs": [
    {
     "name": "stdout",
     "output_type": "stream",
     "text": [
      "abcdefghijklmnopqrstuvwxyz ABCDEFGHIJKLMNOPQRSTUVWXYZ\n"
     ]
    }
   ],
   "source": [
    "print(lcase,ucase)"
   ]
  },
  {
   "cell_type": "code",
   "execution_count": 20,
   "id": "359b8bc2",
   "metadata": {},
   "outputs": [],
   "source": [
    "letras = st.ascii_letters"
   ]
  },
  {
   "cell_type": "code",
   "execution_count": 21,
   "id": "1d754c10",
   "metadata": {},
   "outputs": [
    {
     "name": "stdout",
     "output_type": "stream",
     "text": [
      "abcdefghijklmnopqrstuvwxyzABCDEFGHIJKLMNOPQRSTUVWXYZ\n"
     ]
    }
   ],
   "source": [
    "print(letras)"
   ]
  },
  {
   "cell_type": "code",
   "execution_count": 22,
   "id": "e35281ac",
   "metadata": {},
   "outputs": [],
   "source": [
    "ucase = list(ucase)"
   ]
  },
  {
   "cell_type": "code",
   "execution_count": 26,
   "id": "ad8faa42",
   "metadata": {},
   "outputs": [],
   "source": [
    "series.index = ucase"
   ]
  },
  {
   "cell_type": "code",
   "execution_count": 27,
   "id": "fb29b75f",
   "metadata": {},
   "outputs": [
    {
     "data": {
      "text/plain": [
       "A     0\n",
       "B     1\n",
       "C     2\n",
       "D     3\n",
       "E     4\n",
       "F     5\n",
       "G     6\n",
       "H     7\n",
       "I     8\n",
       "J     9\n",
       "K    10\n",
       "L    11\n",
       "M    12\n",
       "N    13\n",
       "O    14\n",
       "P    15\n",
       "Q    16\n",
       "R    17\n",
       "S    18\n",
       "T    19\n",
       "U    20\n",
       "V    21\n",
       "W    22\n",
       "X    23\n",
       "Y    24\n",
       "Z    25\n",
       "dtype: int32"
      ]
     },
     "execution_count": 27,
     "metadata": {},
     "output_type": "execute_result"
    }
   ],
   "source": [
    "series"
   ]
  },
  {
   "cell_type": "code",
   "execution_count": 28,
   "id": "863822db",
   "metadata": {},
   "outputs": [
    {
     "data": {
      "text/plain": [
       "A    0\n",
       "B    1\n",
       "C    2\n",
       "D    3\n",
       "E    4\n",
       "F    5\n",
       "dtype: int32"
      ]
     },
     "execution_count": 28,
     "metadata": {},
     "output_type": "execute_result"
    }
   ],
   "source": [
    "series[:'F']"
   ]
  },
  {
   "cell_type": "code",
   "execution_count": 30,
   "id": "60af88b5",
   "metadata": {},
   "outputs": [],
   "source": [
    "array1 = np.random.randint(1,30,40)"
   ]
  },
  {
   "cell_type": "code",
   "execution_count": 31,
   "id": "20e7d35f",
   "metadata": {},
   "outputs": [
    {
     "name": "stdout",
     "output_type": "stream",
     "text": [
      "[28 18 29  3 19 27 25 15  7 23 23 25 27 15  3  8  8  2  7  9 16 24 28 28\n",
      "  7 20 19  6 17  3  1  7 12 28 19  3 17 12 10  4]\n"
     ]
    }
   ],
   "source": [
    "print(array1)"
   ]
  },
  {
   "cell_type": "code",
   "execution_count": 33,
   "id": "0a410d8e",
   "metadata": {},
   "outputs": [],
   "source": [
    "dados = pd.Series(array1)"
   ]
  },
  {
   "cell_type": "code",
   "execution_count": 34,
   "id": "07a94a5d",
   "metadata": {},
   "outputs": [
    {
     "name": "stdout",
     "output_type": "stream",
     "text": [
      "0     28\n",
      "1     18\n",
      "2     29\n",
      "3      3\n",
      "4     19\n",
      "5     27\n",
      "6     25\n",
      "7     15\n",
      "8      7\n",
      "9     23\n",
      "10    23\n",
      "11    25\n",
      "12    27\n",
      "13    15\n",
      "14     3\n",
      "15     8\n",
      "16     8\n",
      "17     2\n",
      "18     7\n",
      "19     9\n",
      "20    16\n",
      "21    24\n",
      "22    28\n",
      "23    28\n",
      "24     7\n",
      "25    20\n",
      "26    19\n",
      "27     6\n",
      "28    17\n",
      "29     3\n",
      "30     1\n",
      "31     7\n",
      "32    12\n",
      "33    28\n",
      "34    19\n",
      "35     3\n",
      "36    17\n",
      "37    12\n",
      "38    10\n",
      "39     4\n",
      "dtype: int32\n"
     ]
    }
   ],
   "source": [
    "print(dados)"
   ]
  },
  {
   "cell_type": "code",
   "execution_count": 35,
   "id": "90d7a445",
   "metadata": {},
   "outputs": [],
   "source": [
    "dados = pd.Series(array1, dtype = np.float16)"
   ]
  },
  {
   "cell_type": "code",
   "execution_count": 36,
   "id": "e005e2b0",
   "metadata": {},
   "outputs": [
    {
     "data": {
      "text/plain": [
       "0     28.0\n",
       "1     18.0\n",
       "2     29.0\n",
       "3      3.0\n",
       "4     19.0\n",
       "5     27.0\n",
       "6     25.0\n",
       "7     15.0\n",
       "8      7.0\n",
       "9     23.0\n",
       "10    23.0\n",
       "11    25.0\n",
       "12    27.0\n",
       "13    15.0\n",
       "14     3.0\n",
       "15     8.0\n",
       "16     8.0\n",
       "17     2.0\n",
       "18     7.0\n",
       "19     9.0\n",
       "20    16.0\n",
       "21    24.0\n",
       "22    28.0\n",
       "23    28.0\n",
       "24     7.0\n",
       "25    20.0\n",
       "26    19.0\n",
       "27     6.0\n",
       "28    17.0\n",
       "29     3.0\n",
       "30     1.0\n",
       "31     7.0\n",
       "32    12.0\n",
       "33    28.0\n",
       "34    19.0\n",
       "35     3.0\n",
       "36    17.0\n",
       "37    12.0\n",
       "38    10.0\n",
       "39     4.0\n",
       "dtype: float16"
      ]
     },
     "execution_count": 36,
     "metadata": {},
     "output_type": "execute_result"
    }
   ],
   "source": [
    "dados"
   ]
  },
  {
   "cell_type": "code",
   "execution_count": 44,
   "id": "b3ba2017",
   "metadata": {},
   "outputs": [
    {
     "name": "stdout",
     "output_type": "stream",
     "text": [
      "Média: 15.05 , Maximo:  29.0, Mediana:  15.5, Minimo:  1.0\n"
     ]
    }
   ],
   "source": [
    "print(\"Média: {:.2f} , Maximo:  {}, Mediana:  {}, Minimo:  {}\".format(dados.mean(),dados.max(),dados.median(),dados.min()))"
   ]
  },
  {
   "cell_type": "code",
   "execution_count": 45,
   "id": "f3ade766",
   "metadata": {},
   "outputs": [
    {
     "data": {
      "text/plain": [
       "count    40.000000\n",
       "mean     15.046875\n",
       "std       9.109375\n",
       "min       1.000000\n",
       "25%       7.000000\n",
       "50%      15.500000\n",
       "75%      23.250000\n",
       "max      29.000000\n",
       "dtype: float64"
      ]
     },
     "execution_count": 45,
     "metadata": {},
     "output_type": "execute_result"
    }
   ],
   "source": [
    "dados.describe()"
   ]
  },
  {
   "cell_type": "code",
   "execution_count": 47,
   "id": "7a59a0b0",
   "metadata": {},
   "outputs": [
    {
     "data": {
      "text/plain": [
       "<AxesSubplot:>"
      ]
     },
     "execution_count": 47,
     "metadata": {},
     "output_type": "execute_result"
    },
    {
     "data": {
      "image/png": "[encoded data removed]",
      "text/plain": [
       "<Figure size 432x288 with 1 Axes>"
      ]
     },
     "metadata": {
      "needs_background": "light"
     },
     "output_type": "display_data"
    }
   ],
   "source": [
    "dados.hist()"
   ]
  }
 ],
 "metadata": {
  "kernelspec": {
   "display_name": "Python 3 (ipykernel)",
   "language": "python",
   "name": "python3"
  },
  "language_info": {
   "codemirror_mode": {
    "name": "ipython",
    "version": 3
   },
   "file_extension": ".py",
   "mimetype": "text/x-python",
   "name": "python",
   "nbconvert_exporter": "python",
   "pygments_lexer": "ipython3",
   "version": "3.9.7"
  }
 },
 "nbformat": 4,
 "nbformat_minor": 5
}
