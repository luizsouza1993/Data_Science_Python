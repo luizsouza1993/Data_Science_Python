{
 "cells": [
  {
   "cell_type": "code",
   "execution_count": null,
   "id": "492179fe",
   "metadata": {},
   "outputs": [],
   "source": [
    "import pandas as pd\n",
    "import numpy as np\n",
    "import matplotlib.pyplot as plt\n",
    "%matplotlib inline"
   ]
  },
  {
   "cell_type": "code",
   "execution_count": null,
   "id": "e35a5858",
   "metadata": {},
   "outputs": [],
   "source": [
    "df = pd.DataFrame(pd.read_csv(r\"C:\\Users\\Samsung Max\\OneDrive\\Área de Trabalho\\Data Science Academy\\Python\\8-Arquivos-Cap03\\data\\taxis_bikes_nycity.csv\",encoding =\"utf-8\" , delimiter = \",\",parse_dates =[\"Data\"]))\n",
    "                  "
   ]
  },
  {
   "cell_type": "code",
   "execution_count": null,
   "id": "34a77b8e",
   "metadata": {},
   "outputs": [],
   "source": [
    "df.head(10)"
   ]
  },
  {
   "cell_type": "code",
   "execution_count": null,
   "id": "be304b4b",
   "metadata": {},
   "outputs": [],
   "source": [
    "df.dtypes"
   ]
  },
  {
   "cell_type": "code",
   "execution_count": null,
   "id": "519c6225",
   "metadata": {},
   "outputs": [],
   "source": [
    "df.columns"
   ]
  },
  {
   "cell_type": "code",
   "execution_count": null,
   "id": "898b38dc",
   "metadata": {},
   "outputs": [],
   "source": [
    "df = pd.DataFrame(pd.read_csv(r\"C:\\Users\\Samsung Max\\OneDrive\\Área de Trabalho\\Data Science Academy\\Python\\8-Arquivos-Cap03\\data\\taxis_bikes_nycity.csv\",encoding = \"utf-8\", delimiter = \",\", parse_dates = [\"Data\"]))"
   ]
  },
  {
   "cell_type": "code",
   "execution_count": null,
   "id": "38d52cfc",
   "metadata": {},
   "outputs": [],
   "source": [
    "df.dtypes"
   ]
  },
  {
   "cell_type": "code",
   "execution_count": null,
   "id": "e7532203",
   "metadata": {},
   "outputs": [],
   "source": [
    "df.set_index(\"Data\", inplace = True)"
   ]
  },
  {
   "cell_type": "code",
   "execution_count": null,
   "id": "abc8598b",
   "metadata": {},
   "outputs": [],
   "source": [
    "df.plot()"
   ]
  },
  {
   "cell_type": "code",
   "execution_count": null,
   "id": "26a8c16b",
   "metadata": {},
   "outputs": [],
   "source": [
    "df.plot(kind = \"bar\")\n",
    "plt.show()\n"
   ]
  },
  {
   "cell_type": "code",
   "execution_count": null,
   "id": "62a780dd",
   "metadata": {},
   "outputs": [],
   "source": [
    "colunas = ['Distancia percorrida', 'Tempo total']\n",
    "df.columns = colunas"
   ]
  },
  {
   "cell_type": "code",
   "execution_count": null,
   "id": "adfe53c7",
   "metadata": {},
   "outputs": [],
   "source": [
    "def calculaSegundos(tempo):\n",
    "    if tempo is np.nan:\n",
    "        return np.nan\n",
    "    horas,minutos,segundos = str(tempo).split(\":\")\n",
    "    total_segundos = int(segundos) + (int(minutos)*60) + (int(horas)*3600)\n",
    "    return total_segundos"
   ]
  },
  {
   "cell_type": "code",
   "execution_count": null,
   "id": "6dbcff97",
   "metadata": {},
   "outputs": [],
   "source": [
    "df[\"Segundos\"] = df[\"Tempo total\"].map(calculaSegundos)"
   ]
  },
  {
   "cell_type": "code",
   "execution_count": null,
   "id": "cd528ef8",
   "metadata": {},
   "outputs": [],
   "source": [
    "teste = {\"mensagem\":[\"Voce está na posição da fila 30\",\"Voce está na posição da fila 40\",\"Voce está na posição da fila 50\"]}"
   ]
  },
  {
   "cell_type": "code",
   "execution_count": null,
   "id": "08c2455c",
   "metadata": {},
   "outputs": [],
   "source": [
    "df_mensagem = pd.DataFrame(teste)"
   ]
  },
  {
   "cell_type": "code",
   "execution_count": null,
   "id": "1cb8b9d7",
   "metadata": {},
   "outputs": [],
   "source": [
    "df_mensagem"
   ]
  },
  {
   "cell_type": "code",
   "execution_count": null,
   "id": "1b87d86a",
   "metadata": {},
   "outputs": [],
   "source": [
    "def procurar(mensagem):\n",
    "    pico = int(mensagem[29:32].strip())\n",
    "    return pico"
   ]
  },
  {
   "cell_type": "code",
   "execution_count": null,
   "id": "72aef939",
   "metadata": {},
   "outputs": [],
   "source": [
    "df_mensagem['Pico'] = df_mensagem['mensagem'].map(procurar)"
   ]
  },
  {
   "cell_type": "code",
   "execution_count": null,
   "id": "affcd0ba",
   "metadata": {},
   "outputs": [],
   "source": [
    "df_mensagem"
   ]
  },
  {
   "cell_type": "code",
   "execution_count": null,
   "id": "d47c1669",
   "metadata": {},
   "outputs": [],
   "source": [
    "df.fillna(0).describe()"
   ]
  },
  {
   "cell_type": "code",
   "execution_count": null,
   "id": "3fa00b81",
   "metadata": {},
   "outputs": [],
   "source": [
    "df[\"Minutos\"] = df[\"Segundos\"].map(lambda x: round(x/60,2))"
   ]
  },
  {
   "cell_type": "code",
   "execution_count": null,
   "id": "39463a01",
   "metadata": {},
   "outputs": [],
   "source": [
    "df.fillna(0).describe()"
   ]
  },
  {
   "cell_type": "code",
   "execution_count": null,
   "id": "38f3a540",
   "metadata": {},
   "outputs": [],
   "source": [
    "df[\"Horas\"] = df[\"Minutos\"].map(lambda x: x*60)"
   ]
  },
  {
   "cell_type": "code",
   "execution_count": null,
   "id": "929cf13a",
   "metadata": {},
   "outputs": [],
   "source": [
    "del(df[\"Horas\"])"
   ]
  },
  {
   "cell_type": "code",
   "execution_count": null,
   "id": "4a305f22",
   "metadata": {},
   "outputs": [],
   "source": [
    "df= df.fillna(0)"
   ]
  },
  {
   "cell_type": "code",
   "execution_count": null,
   "id": "70c12a18",
   "metadata": {},
   "outputs": [],
   "source": [
    "df.plot(x = \"Distancia percorrida\", y = \"Segundos\", kind = \"scatter\")"
   ]
  },
  {
   "cell_type": "code",
   "execution_count": null,
   "id": "d6d4add3",
   "metadata": {},
   "outputs": [],
   "source": [
    "df.corr()"
   ]
  },
  {
   "cell_type": "code",
   "execution_count": null,
   "id": "74963e26",
   "metadata": {},
   "outputs": [],
   "source": [
    "df[\"min/km\"] = round(df[\"Minutos\"]/ df[\"Distancia percorrida\"],2)"
   ]
  },
  {
   "cell_type": "code",
   "execution_count": null,
   "id": "a14f3ac9",
   "metadata": {},
   "outputs": [],
   "source": [
    "df[:10]"
   ]
  },
  {
   "cell_type": "code",
   "execution_count": null,
   "id": "664dfb98",
   "metadata": {},
   "outputs": [],
   "source": [
    "df.hist(\"min/km\")"
   ]
  },
  {
   "cell_type": "code",
   "execution_count": null,
   "id": "8c1f0094",
   "metadata": {},
   "outputs": [],
   "source": [
    "df[[\"Segundos\",\"Minutos\",\"Horas\"]]"
   ]
  },
  {
   "cell_type": "code",
   "execution_count": null,
   "id": "70b3ea3c",
   "metadata": {},
   "outputs": [],
   "source": [
    "df.reset_index()"
   ]
  }
 ],
 "metadata": {
  "kernelspec": {
   "display_name": "Python 3 (ipykernel)",
   "language": "python",
   "name": "python3"
  },
  "language_info": {
   "codemirror_mode": {
    "name": "ipython",
    "version": 3
   },
   "file_extension": ".py",
   "mimetype": "text/x-python",
   "name": "python",
   "nbconvert_exporter": "python",
   "pygments_lexer": "ipython3",
   "version": "3.9.7"
  }
 },
 "nbformat": 4,
 "nbformat_minor": 5
}
