{
 "cells": [
  {
   "cell_type": "code",
   "execution_count": 25,
   "id": "d80a0671",
   "metadata": {},
   "outputs": [],
   "source": [
    "import numpy as np\n",
    "from math import sqrt\n",
    "from functools import reduce"
   ]
  },
  {
   "cell_type": "code",
   "execution_count": 2,
   "id": "01ce05b6",
   "metadata": {},
   "outputs": [],
   "source": [
    "array1 = np.arange(0,15)"
   ]
  },
  {
   "cell_type": "code",
   "execution_count": 3,
   "id": "5d2f7b3e",
   "metadata": {},
   "outputs": [
    {
     "data": {
      "text/plain": [
       "array([ 0,  1,  2,  3,  4,  5,  6,  7,  8,  9, 10, 11, 12, 13, 14])"
      ]
     },
     "execution_count": 3,
     "metadata": {},
     "output_type": "execute_result"
    }
   ],
   "source": [
    "array1"
   ]
  },
  {
   "cell_type": "code",
   "execution_count": 4,
   "id": "2da19213",
   "metadata": {},
   "outputs": [
    {
     "data": {
      "text/plain": [
       "numpy.ndarray"
      ]
     },
     "execution_count": 4,
     "metadata": {},
     "output_type": "execute_result"
    }
   ],
   "source": [
    "type(array1)"
   ]
  },
  {
   "cell_type": "code",
   "execution_count": 6,
   "id": "b95781a6",
   "metadata": {},
   "outputs": [],
   "source": [
    "def cubo(x):\n",
    "    return x**3"
   ]
  },
  {
   "cell_type": "code",
   "execution_count": 25,
   "id": "b17c298d",
   "metadata": {},
   "outputs": [
    {
     "name": "stdout",
     "output_type": "stream",
     "text": [
      "0 - 1 - 8 - 27 - 64 - 125 - 216 - 343 - 512 - 729 - 1000 - 1331 - 1728 - 2197 - 2744 - "
     ]
    }
   ],
   "source": [
    "for x in array1:\n",
    "    print(f'{cubo(x)}',end = ' - ' )"
   ]
  },
  {
   "cell_type": "code",
   "execution_count": 27,
   "id": "db18b1c2",
   "metadata": {},
   "outputs": [],
   "source": [
    "lista = list(map(cubo, array1))"
   ]
  },
  {
   "cell_type": "code",
   "execution_count": 28,
   "id": "86b22af7",
   "metadata": {},
   "outputs": [
    {
     "data": {
      "text/plain": [
       "[0, 1, 8, 27, 64, 125, 216, 343, 512, 729, 1000, 1331, 1728, 2197, 2744]"
      ]
     },
     "execution_count": 28,
     "metadata": {},
     "output_type": "execute_result"
    }
   ],
   "source": [
    "lista"
   ]
  },
  {
   "cell_type": "code",
   "execution_count": 30,
   "id": "0abf760b",
   "metadata": {},
   "outputs": [
    {
     "data": {
      "text/plain": [
       "array([ 0.,  1.,  2.,  3.,  4.,  5.,  6.,  7.,  8.,  9., 10., 11., 12.,\n",
       "       13., 14.])"
      ]
     },
     "execution_count": 30,
     "metadata": {},
     "output_type": "execute_result"
    }
   ],
   "source": [
    "array1.astype(float)"
   ]
  },
  {
   "cell_type": "code",
   "execution_count": 31,
   "id": "40643e8c",
   "metadata": {},
   "outputs": [],
   "source": [
    "lista = list(map(float, lista))"
   ]
  },
  {
   "cell_type": "code",
   "execution_count": 32,
   "id": "c6f18969",
   "metadata": {},
   "outputs": [
    {
     "data": {
      "text/plain": [
       "[0.0,\n",
       " 1.0,\n",
       " 8.0,\n",
       " 27.0,\n",
       " 64.0,\n",
       " 125.0,\n",
       " 216.0,\n",
       " 343.0,\n",
       " 512.0,\n",
       " 729.0,\n",
       " 1000.0,\n",
       " 1331.0,\n",
       " 1728.0,\n",
       " 2197.0,\n",
       " 2744.0]"
      ]
     },
     "execution_count": 32,
     "metadata": {},
     "output_type": "execute_result"
    }
   ],
   "source": [
    "lista"
   ]
  },
  {
   "cell_type": "code",
   "execution_count": 34,
   "id": "7d299b98",
   "metadata": {},
   "outputs": [],
   "source": [
    "lista1 = list(map(sqrt,lista[5:]))"
   ]
  },
  {
   "cell_type": "code",
   "execution_count": 49,
   "id": "e2655895",
   "metadata": {},
   "outputs": [
    {
     "data": {
      "text/plain": [
       "[11.18, 14.7, 18.52, 22.63, 27.0, 31.62, 36.48, 41.57, 46.87, 52.38]"
      ]
     },
     "execution_count": 49,
     "metadata": {},
     "output_type": "execute_result"
    }
   ],
   "source": [
    "[round(x,2) for x in lista1]"
   ]
  },
  {
   "cell_type": "code",
   "execution_count": 51,
   "id": "a354ad52",
   "metadata": {},
   "outputs": [],
   "source": [
    "lista3 = lista[:5] + lista1"
   ]
  },
  {
   "cell_type": "code",
   "execution_count": 56,
   "id": "83591f00",
   "metadata": {},
   "outputs": [],
   "source": [
    "lista4 = [round(x,2) for x in lista3]"
   ]
  },
  {
   "cell_type": "code",
   "execution_count": 57,
   "id": "7da87396",
   "metadata": {},
   "outputs": [
    {
     "data": {
      "text/plain": [
       "[0.0,\n",
       " 1.0,\n",
       " 8.0,\n",
       " 27.0,\n",
       " 64.0,\n",
       " 11.18,\n",
       " 14.7,\n",
       " 18.52,\n",
       " 22.63,\n",
       " 27.0,\n",
       " 31.62,\n",
       " 36.48,\n",
       " 41.57,\n",
       " 46.87,\n",
       " 52.38]"
      ]
     },
     "execution_count": 57,
     "metadata": {},
     "output_type": "execute_result"
    }
   ],
   "source": [
    "lista4"
   ]
  },
  {
   "cell_type": "code",
   "execution_count": 2,
   "id": "8ed19497",
   "metadata": {},
   "outputs": [],
   "source": [
    "array10 = np.arange(0,20)"
   ]
  },
  {
   "cell_type": "code",
   "execution_count": 3,
   "id": "5092fb95",
   "metadata": {},
   "outputs": [],
   "source": [
    "def verificaPar(x):\n",
    "    return x%2==0"
   ]
  },
  {
   "cell_type": "code",
   "execution_count": 7,
   "id": "dfe3a28c",
   "metadata": {},
   "outputs": [],
   "source": [
    "lista5 = list(map(verificaPar,array10))"
   ]
  },
  {
   "cell_type": "code",
   "execution_count": 8,
   "id": "0b5b4242",
   "metadata": {},
   "outputs": [
    {
     "data": {
      "text/plain": [
       "[True,\n",
       " False,\n",
       " True,\n",
       " False,\n",
       " True,\n",
       " False,\n",
       " True,\n",
       " False,\n",
       " True,\n",
       " False,\n",
       " True,\n",
       " False,\n",
       " True,\n",
       " False,\n",
       " True,\n",
       " False,\n",
       " True,\n",
       " False,\n",
       " True,\n",
       " False]"
      ]
     },
     "execution_count": 8,
     "metadata": {},
     "output_type": "execute_result"
    }
   ],
   "source": [
    "lista5"
   ]
  },
  {
   "cell_type": "code",
   "execution_count": 9,
   "id": "2c1011ba",
   "metadata": {},
   "outputs": [],
   "source": [
    "lista6 = list(filter(verificaPar,array10))"
   ]
  },
  {
   "cell_type": "code",
   "execution_count": 10,
   "id": "9f53f630",
   "metadata": {},
   "outputs": [
    {
     "data": {
      "text/plain": [
       "[0, 2, 4, 6, 8, 10, 12, 14, 16, 18]"
      ]
     },
     "execution_count": 10,
     "metadata": {},
     "output_type": "execute_result"
    }
   ],
   "source": [
    "lista6"
   ]
  },
  {
   "cell_type": "code",
   "execution_count": 11,
   "id": "4ca7c06d",
   "metadata": {},
   "outputs": [],
   "source": [
    "frases = ['teste teste','teste','teste teste','teste','teste teste','teste','teste teste','teste']"
   ]
  },
  {
   "cell_type": "code",
   "execution_count": 15,
   "id": "cf9a21bc",
   "metadata": {},
   "outputs": [],
   "source": [
    "def contTeste(x):\n",
    "    return x.count('teste')>=2"
   ]
  },
  {
   "cell_type": "code",
   "execution_count": 16,
   "id": "5d98cc04",
   "metadata": {},
   "outputs": [],
   "source": [
    "lista7 = list(map(contTeste,frases))"
   ]
  },
  {
   "cell_type": "code",
   "execution_count": 17,
   "id": "af86fd6d",
   "metadata": {},
   "outputs": [
    {
     "data": {
      "text/plain": [
       "[True, False, True, False, True, False, True, False]"
      ]
     },
     "execution_count": 17,
     "metadata": {},
     "output_type": "execute_result"
    }
   ],
   "source": [
    "lista7"
   ]
  },
  {
   "cell_type": "code",
   "execution_count": 20,
   "id": "bb5fbcff",
   "metadata": {},
   "outputs": [],
   "source": [
    "lista8 = list(filter(contTeste,frases))"
   ]
  },
  {
   "cell_type": "code",
   "execution_count": 21,
   "id": "682b9b2f",
   "metadata": {},
   "outputs": [
    {
     "data": {
      "text/plain": [
       "['teste teste', 'teste teste', 'teste teste', 'teste teste']"
      ]
     },
     "execution_count": 21,
     "metadata": {},
     "output_type": "execute_result"
    }
   ],
   "source": [
    "lista8"
   ]
  },
  {
   "cell_type": "code",
   "execution_count": 30,
   "id": "f135e8e5",
   "metadata": {},
   "outputs": [
    {
     "ename": "TypeError",
     "evalue": "<lambda>() takes 1 positional argument but 2 were given",
     "output_type": "error",
     "traceback": [
      "\u001b[1;31m---------------------------------------------------------------------------\u001b[0m",
      "\u001b[1;31mTypeError\u001b[0m                                 Traceback (most recent call last)",
      "\u001b[1;32mC:\\Users\\SAMSUN~1\\AppData\\Local\\Temp/ipykernel_7696/3047100398.py\u001b[0m in \u001b[0;36m<module>\u001b[1;34m\u001b[0m\n\u001b[1;32m----> 1\u001b[1;33m \u001b[0mresultado\u001b[0m \u001b[1;33m=\u001b[0m \u001b[0mreduce\u001b[0m\u001b[1;33m(\u001b[0m\u001b[1;33m(\u001b[0m\u001b[1;32mlambda\u001b[0m \u001b[0mx\u001b[0m\u001b[1;33m:\u001b[0m \u001b[0mmin\u001b[0m\u001b[1;33m(\u001b[0m\u001b[0mx\u001b[0m\u001b[1;33m)\u001b[0m\u001b[1;33m)\u001b[0m\u001b[1;33m,\u001b[0m\u001b[1;33m[\u001b[0m\u001b[1;36m1\u001b[0m\u001b[1;33m,\u001b[0m\u001b[1;36m2\u001b[0m\u001b[1;33m,\u001b[0m\u001b[1;36m3\u001b[0m\u001b[1;33m,\u001b[0m\u001b[1;36m4\u001b[0m\u001b[1;33m]\u001b[0m\u001b[1;33m)\u001b[0m\u001b[1;33m\u001b[0m\u001b[1;33m\u001b[0m\u001b[0m\n\u001b[0m",
      "\u001b[1;31mTypeError\u001b[0m: <lambda>() takes 1 positional argument but 2 were given"
     ]
    }
   ],
   "source": [
    "resultado = reduce((lambda x,y: min(x)),[1,2,3,4])"
   ]
  },
  {
   "cell_type": "code",
   "execution_count": 29,
   "id": "4b068af4",
   "metadata": {},
   "outputs": [
    {
     "data": {
      "text/plain": [
       "24"
      ]
     },
     "execution_count": 29,
     "metadata": {},
     "output_type": "execute_result"
    }
   ],
   "source": [
    "resultado"
   ]
  },
  {
   "cell_type": "code",
   "execution_count": null,
   "id": "4f02957a",
   "metadata": {},
   "outputs": [],
   "source": []
  }
 ],
 "metadata": {
  "kernelspec": {
   "display_name": "Python 3 (ipykernel)",
   "language": "python",
   "name": "python3"
  },
  "language_info": {
   "codemirror_mode": {
    "name": "ipython",
    "version": 3
   },
   "file_extension": ".py",
   "mimetype": "text/x-python",
   "name": "python",
   "nbconvert_exporter": "python",
   "pygments_lexer": "ipython3",
   "version": "3.9.7"
  }
 },
 "nbformat": 4,
 "nbformat_minor": 5
}
