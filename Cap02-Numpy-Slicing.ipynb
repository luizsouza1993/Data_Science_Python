{
 "cells": [
  {
   "cell_type": "markdown",
   "id": "df4120fa",
   "metadata": {},
   "source": [
    "# INDEXAÇÃO E SLICING COM NUMPY"
   ]
  },
  {
   "cell_type": "code",
   "execution_count": 3,
   "id": "febc1dad",
   "metadata": {},
   "outputs": [],
   "source": [
    "import numpy as np"
   ]
  },
  {
   "cell_type": "code",
   "execution_count": 5,
   "id": "64818db7",
   "metadata": {},
   "outputs": [],
   "source": [
    "array1 = np.arange(0,10)**2"
   ]
  },
  {
   "cell_type": "code",
   "execution_count": 9,
   "id": "3ebea9c2",
   "metadata": {},
   "outputs": [
    {
     "name": "stdout",
     "output_type": "stream",
     "text": [
      "[ 0  1  4  9 16 25 36 49 64 81]\n",
      "1\n",
      "0\n",
      "81\n"
     ]
    }
   ],
   "source": [
    "print(array1);\n",
    "print(array1[1]);\n",
    "print(array1[0]);\n",
    "print(array1[-1])"
   ]
  },
  {
   "cell_type": "code",
   "execution_count": 25,
   "id": "a3adb8bb",
   "metadata": {},
   "outputs": [
    {
     "data": {
      "text/plain": [
       "1"
      ]
     },
     "execution_count": 25,
     "metadata": {},
     "output_type": "execute_result"
    }
   ],
   "source": [
    "array2 = np.arange(1,1000);\n",
    "array2.sort();\n",
    "array2[::-1][-1]"
   ]
  },
  {
   "cell_type": "code",
   "execution_count": 4,
   "id": "302ef47b",
   "metadata": {},
   "outputs": [
    {
     "data": {
      "text/plain": [
       "array([[1, 2, 3],\n",
       "       [4, 5, 6],\n",
       "       [7, 8, 9]])"
      ]
     },
     "execution_count": 4,
     "metadata": {},
     "output_type": "execute_result"
    }
   ],
   "source": [
    "array3 = np.array([np.arange(1,4),np.arange(4,7),np.arange(7,10)])\n",
    "array3"
   ]
  },
  {
   "cell_type": "code",
   "execution_count": 5,
   "id": "5f6a10f4",
   "metadata": {},
   "outputs": [
    {
     "data": {
      "text/plain": [
       "2"
      ]
     },
     "execution_count": 5,
     "metadata": {},
     "output_type": "execute_result"
    }
   ],
   "source": [
    "array3.ndim"
   ]
  },
  {
   "cell_type": "code",
   "execution_count": 6,
   "id": "da15e96a",
   "metadata": {},
   "outputs": [
    {
     "data": {
      "text/plain": [
       "array([[5, 6],\n",
       "       [8, 9]])"
      ]
     },
     "execution_count": 6,
     "metadata": {},
     "output_type": "execute_result"
    }
   ],
   "source": [
    "array3[1:,1:]"
   ]
  },
  {
   "cell_type": "code",
   "execution_count": 9,
   "id": "517cf533",
   "metadata": {},
   "outputs": [
    {
     "name": "stdout",
     "output_type": "stream",
     "text": [
      "[[  1   2   3]\n",
      " [  4 100   6]\n",
      " [  7   8   9]]\n"
     ]
    }
   ],
   "source": [
    "array3[1,1]=100;\n",
    "print(array3);"
   ]
  },
  {
   "cell_type": "code",
   "execution_count": 13,
   "id": "8bcfd560",
   "metadata": {},
   "outputs": [],
   "source": [
    "array8 = np.arange(0,15,2)"
   ]
  },
  {
   "cell_type": "code",
   "execution_count": 14,
   "id": "9b3b2a6b",
   "metadata": {},
   "outputs": [
    {
     "data": {
      "text/plain": [
       "array([ 0,  2,  4,  6,  8, 10, 12, 14])"
      ]
     },
     "execution_count": 14,
     "metadata": {},
     "output_type": "execute_result"
    }
   ],
   "source": [
    "array8"
   ]
  },
  {
   "cell_type": "code",
   "execution_count": 15,
   "id": "af46a50d",
   "metadata": {},
   "outputs": [],
   "source": [
    "array9 = array8[::3]"
   ]
  },
  {
   "cell_type": "code",
   "execution_count": 16,
   "id": "9a03c8f6",
   "metadata": {},
   "outputs": [
    {
     "data": {
      "text/plain": [
       "array([ 0,  6, 12])"
      ]
     },
     "execution_count": 16,
     "metadata": {},
     "output_type": "execute_result"
    }
   ],
   "source": [
    "array9"
   ]
  },
  {
   "cell_type": "code",
   "execution_count": 18,
   "id": "d109a3f3",
   "metadata": {},
   "outputs": [],
   "source": [
    "array10 = array9.copy()"
   ]
  },
  {
   "cell_type": "code",
   "execution_count": 19,
   "id": "d92dd484",
   "metadata": {},
   "outputs": [
    {
     "data": {
      "text/plain": [
       "array([ 0,  6, 12])"
      ]
     },
     "execution_count": 19,
     "metadata": {},
     "output_type": "execute_result"
    }
   ],
   "source": [
    "array10"
   ]
  }
 ],
 "metadata": {
  "kernelspec": {
   "display_name": "Python 3 (ipykernel)",
   "language": "python",
   "name": "python3"
  },
  "language_info": {
   "codemirror_mode": {
    "name": "ipython",
    "version": 3
   },
   "file_extension": ".py",
   "mimetype": "text/x-python",
   "name": "python",
   "nbconvert_exporter": "python",
   "pygments_lexer": "ipython3",
   "version": "3.9.7"
  }
 },
 "nbformat": 4,
 "nbformat_minor": 5
}
