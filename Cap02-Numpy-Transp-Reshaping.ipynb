{
 "cells": [
  {
   "cell_type": "code",
   "execution_count": 2,
   "id": "2316fcc2",
   "metadata": {},
   "outputs": [],
   "source": [
    "import numpy as np"
   ]
  },
  {
   "cell_type": "code",
   "execution_count": 5,
   "id": "ce6fab66",
   "metadata": {},
   "outputs": [],
   "source": [
    "array1 = np.array([np.arange(10,50,10),np.arange(10,50,10)])"
   ]
  },
  {
   "cell_type": "code",
   "execution_count": 6,
   "id": "e79385cf",
   "metadata": {},
   "outputs": [
    {
     "data": {
      "text/plain": [
       "array([[10, 20, 30, 40],\n",
       "       [10, 20, 30, 40]])"
      ]
     },
     "execution_count": 6,
     "metadata": {},
     "output_type": "execute_result"
    }
   ],
   "source": [
    "array1"
   ]
  },
  {
   "cell_type": "code",
   "execution_count": 17,
   "id": "2438a119",
   "metadata": {},
   "outputs": [],
   "source": [
    "array2 = np.transpose(array1)"
   ]
  },
  {
   "cell_type": "code",
   "execution_count": 18,
   "id": "e2ba4cc1",
   "metadata": {},
   "outputs": [
    {
     "name": "stdout",
     "output_type": "stream",
     "text": [
      "[[10 10]\n",
      " [20 20]\n",
      " [30 30]\n",
      " [40 40]]\n"
     ]
    }
   ],
   "source": [
    "print(array2)"
   ]
  },
  {
   "cell_type": "code",
   "execution_count": 19,
   "id": "f96f1b74",
   "metadata": {},
   "outputs": [
    {
     "data": {
      "text/plain": [
       "array([10, 10, 20, 20, 30, 30, 40, 40])"
      ]
     },
     "execution_count": 19,
     "metadata": {},
     "output_type": "execute_result"
    }
   ],
   "source": [
    "array2.ravel()"
   ]
  },
  {
   "cell_type": "code",
   "execution_count": 20,
   "id": "4169d2d8",
   "metadata": {},
   "outputs": [
    {
     "data": {
      "text/plain": [
       "array([10, 20, 30, 40, 10, 20, 30, 40])"
      ]
     },
     "execution_count": 20,
     "metadata": {},
     "output_type": "execute_result"
    }
   ],
   "source": [
    "array2.T.ravel()"
   ]
  },
  {
   "cell_type": "code",
   "execution_count": 21,
   "id": "fc8bd65a",
   "metadata": {},
   "outputs": [],
   "source": [
    "array3 = np.random.randint(2,20,size=(4,4))"
   ]
  },
  {
   "cell_type": "code",
   "execution_count": 22,
   "id": "13cf93bd",
   "metadata": {},
   "outputs": [
    {
     "data": {
      "text/plain": [
       "array([[ 3, 10,  4,  4],\n",
       "       [13,  3, 11,  3],\n",
       "       [19, 15, 17,  8],\n",
       "       [ 9, 11,  5,  4]])"
      ]
     },
     "execution_count": 22,
     "metadata": {},
     "output_type": "execute_result"
    }
   ],
   "source": [
    "array3"
   ]
  },
  {
   "cell_type": "code",
   "execution_count": 27,
   "id": "2c9591e7",
   "metadata": {},
   "outputs": [],
   "source": [
    "array4 = np.all((array3/3)==1)"
   ]
  },
  {
   "cell_type": "code",
   "execution_count": 28,
   "id": "cf6ccbce",
   "metadata": {},
   "outputs": [
    {
     "data": {
      "text/plain": [
       "False"
      ]
     },
     "execution_count": 28,
     "metadata": {},
     "output_type": "execute_result"
    }
   ],
   "source": [
    "array4"
   ]
  },
  {
   "cell_type": "code",
   "execution_count": 42,
   "id": "efa586ad",
   "metadata": {},
   "outputs": [],
   "source": [
    "array5 = np.arange(1,11,3)"
   ]
  },
  {
   "cell_type": "code",
   "execution_count": 43,
   "id": "b1b28fe8",
   "metadata": {},
   "outputs": [
    {
     "data": {
      "text/plain": [
       "array([ 1,  4,  7, 10])"
      ]
     },
     "execution_count": 43,
     "metadata": {},
     "output_type": "execute_result"
    }
   ],
   "source": [
    "array5"
   ]
  },
  {
   "cell_type": "code",
   "execution_count": 75,
   "id": "ce488cfe",
   "metadata": {},
   "outputs": [],
   "source": [
    "array6 = np.array([[2,4,1,1,3],[2,4,1,1,3]])"
   ]
  },
  {
   "cell_type": "code",
   "execution_count": 76,
   "id": "9aa223b6",
   "metadata": {},
   "outputs": [
    {
     "data": {
      "text/plain": [
       "array([[2, 4, 1, 1, 3],\n",
       "       [2, 4, 1, 1, 3]])"
      ]
     },
     "execution_count": 76,
     "metadata": {},
     "output_type": "execute_result"
    }
   ],
   "source": [
    "array6"
   ]
  },
  {
   "cell_type": "code",
   "execution_count": 77,
   "id": "baec706d",
   "metadata": {},
   "outputs": [],
   "source": [
    "array6.sort(axis=0)"
   ]
  },
  {
   "cell_type": "code",
   "execution_count": 78,
   "id": "2b434ea1",
   "metadata": {},
   "outputs": [
    {
     "data": {
      "text/plain": [
       "array([[2, 4, 1, 1, 3],\n",
       "       [2, 4, 1, 1, 3]])"
      ]
     },
     "execution_count": 78,
     "metadata": {},
     "output_type": "execute_result"
    }
   ],
   "source": [
    "array6"
   ]
  }
 ],
 "metadata": {
  "kernelspec": {
   "display_name": "Python 3 (ipykernel)",
   "language": "python",
   "name": "python3"
  },
  "language_info": {
   "codemirror_mode": {
    "name": "ipython",
    "version": 3
   },
   "file_extension": ".py",
   "mimetype": "text/x-python",
   "name": "python",
   "nbconvert_exporter": "python",
   "pygments_lexer": "ipython3",
   "version": "3.9.7"
  }
 },
 "nbformat": 4,
 "nbformat_minor": 5
}
